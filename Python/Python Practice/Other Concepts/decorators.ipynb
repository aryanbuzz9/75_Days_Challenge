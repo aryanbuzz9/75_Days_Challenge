{
 "cells": [
  {
   "cell_type": "code",
   "execution_count": null,
   "metadata": {},
   "outputs": [],
   "source": [
    "def greet(func):\n",
    "    def modify_func(*args,**kwargs):\n",
    "        print(\"Hi\")\n",
    "        func(*args,**kwargs)\n",
    "        print(\"Bye\")\n",
    "    \n",
    "    return modify_func\n",
    "\n",
    "@greet\n",
    "def add(a,b):\n",
    "    return 'Sum is ',a+b\n",
    "\n",
    "print(add(2,3))\n"
   ]
  },
  {
   "cell_type": "code",
   "execution_count": 2,
   "metadata": {},
   "outputs": [
    {
     "name": "stdout",
     "output_type": "stream",
     "text": [
      "Exectuion Started...\n",
      "Execution is going on\n",
      "Execution Completed\n"
     ]
    }
   ],
   "source": [
    "#Exa:- 1 Transaction \n",
    "def decorator(func):\n",
    "    def wrapper(*args,**kwargs):\n",
    "        print(\"Exectuion Started...\")\n",
    "        result=func(*args,**kwargs)\n",
    "        print(\"Execution Completed\")\n",
    "        return result\n",
    "    return wrapper\n",
    "\n",
    "\n",
    "@decorator\n",
    "def execute():\n",
    "    print(\"Execution is going on\")\n",
    "\n",
    "execute()"
   ]
  },
  {
   "cell_type": "code",
   "execution_count": 1,
   "metadata": {},
   "outputs": [
    {
     "name": "stdout",
     "output_type": "stream",
     "text": [
      "main_function 2.0136990547180176\n"
     ]
    }
   ],
   "source": [
    "#Timing function execution\n",
    "import time\n",
    "def timer(func):\n",
    "    def wrapper(*args,**kwargs):\n",
    "        start=time.time()\n",
    "        result=func(*args,**kwargs)\n",
    "        end=time.time()\n",
    "        print(f'main_function {end-start}')\n",
    "        return result\n",
    "    return wrapper\n",
    "\n",
    "@timer\n",
    "def main_func(n):\n",
    "    time.sleep(n)\n",
    "main_func(2)"
   ]
  }
 ],
 "metadata": {
  "kernelspec": {
   "display_name": "Python 3.10.5 64-bit",
   "language": "python",
   "name": "python3"
  },
  "language_info": {
   "codemirror_mode": {
    "name": "ipython",
    "version": 3
   },
   "file_extension": ".py",
   "mimetype": "text/x-python",
   "name": "python",
   "nbconvert_exporter": "python",
   "pygments_lexer": "ipython3",
   "version": "3.10.5"
  },
  "orig_nbformat": 4,
  "vscode": {
   "interpreter": {
    "hash": "287ee184d78959fade4213e06aa8453c71d17316fcbc60aa682b94ecd5afe758"
   }
  }
 },
 "nbformat": 4,
 "nbformat_minor": 2
}
